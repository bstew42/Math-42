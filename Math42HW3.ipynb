{
 "cells": [
  {
   "cell_type": "code",
   "execution_count": 2,
   "id": "0cc22d44-d5c2-4210-8a21-58fde26ec1cc",
   "metadata": {},
   "outputs": [],
   "source": [
    "from matplotlib import pyplot as plt"
   ]
  },
  {
   "cell_type": "code",
   "execution_count": 3,
   "id": "de2eebf2-d37f-4251-a264-524b5c4d396e",
   "metadata": {},
   "outputs": [],
   "source": [
    "import numpy as np\n",
    "from numpy.linalg import eig"
   ]
  },
  {
   "cell_type": "markdown",
   "id": "502499ce-3478-4933-9aa9-9d2f86ecbba2",
   "metadata": {},
   "source": [
    "Define matrix of recurrence relation"
   ]
  },
  {
   "cell_type": "code",
   "execution_count": 4,
   "id": "4536cf25-4928-469a-b4e2-89973fc95875",
   "metadata": {},
   "outputs": [],
   "source": [
    "A = [[0, 0.8, 3.5],\n",
    "     [0.8, 0, 0],\n",
    "     [0, 0.9, 0]]"
   ]
  },
  {
   "cell_type": "markdown",
   "id": "c2e8b3bc-261f-4513-96b6-ee638d41d3a7",
   "metadata": {},
   "source": [
    "Find eigenvalues and eigenvectors"
   ]
  },
  {
   "cell_type": "code",
   "execution_count": 5,
   "id": "49a3e2c3-83af-41ed-af0f-d43b3b1bc45f",
   "metadata": {},
   "outputs": [
    {
     "name": "stdout",
     "output_type": "stream",
     "text": [
      "E-value: [ 1.516972+0.j         -0.758486+1.04206671j -0.758486-1.04206671j]\n",
      "E-vector [[ 0.85249014+0.j         -0.79729604+0.j         -0.79729604-0.j        ]\n",
      " [ 0.44957462+0.j          0.29122871+0.40011252j  0.29122871-0.40011252j]\n",
      " [ 0.26672685+0.j          0.10621569-0.32883591j  0.10621569+0.32883591j]]\n"
     ]
    }
   ],
   "source": [
    "w,v=eig(A)\n",
    "print('E-value:', w)\n",
    "print('E-vector', v)"
   ]
  },
  {
   "cell_type": "code",
   "execution_count": 6,
   "id": "bdbf2ea0-e940-4782-b8aa-a69b8c3abe5e",
   "metadata": {},
   "outputs": [
    {
     "data": {
      "text/plain": [
       "array([1.516972  , 1.28887704, 1.28887704])"
      ]
     },
     "execution_count": 6,
     "metadata": {},
     "output_type": "execute_result"
    }
   ],
   "source": [
    "abs(w)"
   ]
  },
  {
   "cell_type": "markdown",
   "id": "6407a00d-2e57-4c89-9c25-dbb875303357",
   "metadata": {},
   "source": [
    "1.516972 is largest eigenvlaue, population will grow at 51.7%"
   ]
  },
  {
   "cell_type": "markdown",
   "id": "a4b83817-7dba-4ef4-9a9e-5eabf66c7f79",
   "metadata": {},
   "source": [
    "Model ten years of growth of entire population"
   ]
  },
  {
   "cell_type": "code",
   "execution_count": 7,
   "id": "3a5c3155-c746-4bbe-b8a5-c7000368db27",
   "metadata": {},
   "outputs": [
    {
     "name": "stdout",
     "output_type": "stream",
     "text": [
      "n =  1 [80.]\n",
      "n =  2 [136.]\n",
      "n =  3 [303.2]\n",
      "n =  4 [288.64]\n",
      "n =  5 [536.768]\n",
      "n =  6 [948.7936]\n",
      "n =  7 [1070.90432]\n",
      "n =  8 [1959.883264]\n",
      "n =  9 [3076.3386368]\n",
      "n =  10 [3953.00417536]\n"
     ]
    }
   ],
   "source": [
    "pop_0 = [[100],\n",
    "         [0],\n",
    "         [0]]\n",
    "for i in range(10):\n",
    "    a = np.matmul(A, pop_0)\n",
    "    print(\"n = \", i + 1, sum(a))\n",
    "    pop_0 = np.dot(A, pop_0)\n",
    "    "
   ]
  },
  {
   "cell_type": "code",
   "execution_count": 8,
   "id": "5d6ef66d-7ddd-4355-ac17-a18050f6aafe",
   "metadata": {},
   "outputs": [
    {
     "data": {
      "text/plain": [
       "6"
      ]
     },
     "execution_count": 8,
     "metadata": {},
     "output_type": "execute_result"
    }
   ],
   "source": [
    "v = [1, 2, 3]\n",
    "sum(v)"
   ]
  },
  {
   "cell_type": "code",
   "execution_count": null,
   "id": "59b233df-87ff-4aa2-8739-35181fe2b622",
   "metadata": {},
   "outputs": [],
   "source": []
  },
  {
   "cell_type": "code",
   "execution_count": 9,
   "id": "ac83fe1a-d550-4a96-a735-714cf6cce2da",
   "metadata": {},
   "outputs": [
    {
     "data": {
      "text/plain": [
       "1.4135421428442034"
      ]
     },
     "execution_count": 9,
     "metadata": {},
     "output_type": "execute_result"
    }
   ],
   "source": [
    "np.linalg.norm([[0.85249014]\n",
    "                ,[-0.79729604]\n",
    "                ,[ -0.79729604]])"
   ]
  },
  {
   "cell_type": "code",
   "execution_count": 10,
   "id": "239492cd-f088-4c56-a535-9c1fb98c1e04",
   "metadata": {},
   "outputs": [
    {
     "name": "stdout",
     "output_type": "stream",
     "text": [
      "n =  1 :  [[4308.1629696 ]\n",
      " [1257.12937779]\n",
      " [1342.47020544]]\n",
      "n =  2 :  [[5704.34922127]\n",
      " [3446.53037568]\n",
      " [1131.41644001]]\n",
      "n =  3 :  [[6717.18184059]\n",
      " [4563.47937702]\n",
      " [3101.87733811]]\n",
      "n =  4 :  [[14507.35418501]\n",
      " [ 5373.74547247]\n",
      " [ 4107.13143932]]\n",
      "n =  5 :  [[18673.95641559]\n",
      " [11605.88334801]\n",
      " [ 4836.37092522]]\n",
      "n =  6 :  [[26212.00491669]\n",
      " [14939.16513247]\n",
      " [10445.29501321]]\n",
      "n =  7 :  [[48509.86465219]\n",
      " [20969.60393335]\n",
      " [13445.24861922]]\n",
      "n =  8 :  [[63834.05331396]\n",
      " [38807.89172175]\n",
      " [18872.64354002]]\n",
      "n =  9 :  [[97100.56576746]\n",
      " [51067.24265117]\n",
      " [34927.10254958]]\n",
      "n =  10 :  [[163098.65304446]\n",
      " [ 77680.45261397]\n",
      " [ 45960.51838605]]\n"
     ]
    }
   ],
   "source": [
    "prop_0 = [[100], \n",
    "          [0],\n",
    "          [0]]\n",
    "for i in range(10):\n",
    "    a = np.dot(A, pop_0)\n",
    "    print(\"n = \", i + 1, \": \", a)\n",
    "    pop_0 = np.dot(A, pop_0)\n",
    "    "
   ]
  },
  {
   "cell_type": "code",
   "execution_count": null,
   "id": "e37d1064-b12f-44c3-8dcc-38e4ddae9f1d",
   "metadata": {},
   "outputs": [],
   "source": []
  },
  {
   "cell_type": "code",
   "execution_count": 11,
   "id": "b26416b6-8d5a-4d65-85f7-fad89817cc96",
   "metadata": {},
   "outputs": [
    {
     "data": {
      "text/plain": [
       "array([0.5434056 +0.j, 0.28657383+0.j, 0.17002057+0.j])"
      ]
     },
     "execution_count": 11,
     "metadata": {},
     "output_type": "execute_result"
    }
   ],
   "source": [
    "vec = np.linalg.eig(A)[1]\n",
    "vec = vec[:,0]\n",
    "vec = 1/sum(vec) * vec\n",
    "vec"
   ]
  },
  {
   "cell_type": "markdown",
   "id": "21e5ff9e-54bc-44d5-bb7b-5e646e84c48c",
   "metadata": {},
   "source": [
    "Ratio of populations at time 10"
   ]
  },
  {
   "cell_type": "code",
   "execution_count": 12,
   "id": "3114aac6-2cb5-4069-b72f-a158f72953a8",
   "metadata": {},
   "outputs": [
    {
     "data": {
      "text/plain": [
       "array([[0.39752342],\n",
       "       [0.37734176],\n",
       "       [0.22513482]])"
      ]
     },
     "execution_count": 12,
     "metadata": {},
     "output_type": "execute_result"
    }
   ],
   "source": [
    "pop_0 = [[100],\n",
    "         [0],\n",
    "         [0]]\n",
    "ten = np.matmul(np.linalg.matrix_power(A, 10), pop_0)\n",
    "(1 / sum(ten)) * ten"
   ]
  },
  {
   "cell_type": "markdown",
   "id": "d05b1a05-1a0f-435b-a59b-dac46c79ffe3",
   "metadata": {},
   "source": [
    "Define recurrence relation for population"
   ]
  },
  {
   "cell_type": "code",
   "execution_count": 13,
   "id": "f2c85ecb-bf65-49b4-96c6-7daa31264c1a",
   "metadata": {},
   "outputs": [],
   "source": [
    "B = [[12, 26, 6],\n",
    "     [0.3, 0.92, 0],\n",
    "     [0, 0.18, 0.67]]\n"
   ]
  },
  {
   "cell_type": "markdown",
   "id": "b78a3538-5175-4ab1-b98b-7d708b7d89f1",
   "metadata": {},
   "source": [
    "Model population of trees for ten years"
   ]
  },
  {
   "cell_type": "code",
   "execution_count": 14,
   "id": "5c7fb026-7401-49ed-8aa1-25ba81840944",
   "metadata": {},
   "outputs": [
    {
     "name": "stdout",
     "output_type": "stream",
     "text": [
      "n =  1 [[33454.  ]\n",
      " [  955.  ]\n",
      " [  142.24]]\n",
      "n =  2 [[4.2713144e+05]\n",
      " [1.0914800e+04]\n",
      " [2.6720080e+02]]\n",
      "n =  3 [[5.41096528e+06]\n",
      " [1.38181048e+05]\n",
      " [2.14368854e+03]]\n",
      "n =  4 [[6.85371528e+07]\n",
      " [1.75041615e+06]\n",
      " [2.63088600e+04]]\n",
      "n =  5 [[8.68114507e+08]\n",
      " [2.21715287e+07]\n",
      " [3.32701843e+05]]\n"
     ]
    }
   ],
   "source": [
    "tree_0 = [[1696],\n",
    "          [485],\n",
    "          [82]]\n",
    "\n",
    "for i in range(5):\n",
    "    b = np.matmul(B, tree_0)\n",
    "    print(\"n = \", i + 1, b)\n",
    "    tree_0 = np.matmul(B, tree_0)"
   ]
  },
  {
   "cell_type": "markdown",
   "id": "fab56639-592f-4a32-acda-50d5eb8659db",
   "metadata": {},
   "source": [
    "Define recurrence relation matrix"
   ]
  },
  {
   "cell_type": "code",
   "execution_count": 15,
   "id": "a006444b-fb2c-463d-a0cd-09c26df5f59b",
   "metadata": {},
   "outputs": [
    {
     "data": {
      "text/plain": [
       "array([[0.63, 0.63, 1.2 , 1.2 , 1.2 , 1.2 , 1.2 , 1.2 , 1.2 , 1.2 , 1.2 ,\n",
       "        1.2 , 1.2 , 1.2 , 1.2 , 1.2 ],\n",
       "       [0.34, 0.  , 0.  , 0.  , 0.  , 0.  , 0.  , 0.  , 0.  , 0.  , 0.  ,\n",
       "        0.  , 0.  , 0.  , 0.  , 0.  ],\n",
       "       [0.  , 0.71, 0.  , 0.  , 0.  , 0.  , 0.  , 0.  , 0.  , 0.  , 0.  ,\n",
       "        0.  , 0.  , 0.  , 0.  , 0.  ],\n",
       "       [0.  , 0.  , 0.71, 0.  , 0.  , 0.  , 0.  , 0.  , 0.  , 0.  , 0.  ,\n",
       "        0.  , 0.  , 0.  , 0.  , 0.  ],\n",
       "       [0.  , 0.  , 0.  , 0.71, 0.  , 0.  , 0.  , 0.  , 0.  , 0.  , 0.  ,\n",
       "        0.  , 0.  , 0.  , 0.  , 0.  ],\n",
       "       [0.  , 0.  , 0.  , 0.  , 0.71, 0.  , 0.  , 0.  , 0.  , 0.  , 0.  ,\n",
       "        0.  , 0.  , 0.  , 0.  , 0.  ],\n",
       "       [0.  , 0.  , 0.  , 0.  , 0.  , 0.71, 0.  , 0.  , 0.  , 0.  , 0.  ,\n",
       "        0.  , 0.  , 0.  , 0.  , 0.  ],\n",
       "       [0.  , 0.  , 0.  , 0.  , 0.  , 0.  , 0.71, 0.  , 0.  , 0.  , 0.  ,\n",
       "        0.  , 0.  , 0.  , 0.  , 0.  ],\n",
       "       [0.  , 0.  , 0.  , 0.  , 0.  , 0.  , 0.  , 0.71, 0.  , 0.  , 0.  ,\n",
       "        0.  , 0.  , 0.  , 0.  , 0.  ],\n",
       "       [0.  , 0.  , 0.  , 0.  , 0.  , 0.  , 0.  , 0.  , 0.71, 0.  , 0.  ,\n",
       "        0.  , 0.  , 0.  , 0.  , 0.  ],\n",
       "       [0.  , 0.  , 0.  , 0.  , 0.  , 0.  , 0.  , 0.  , 0.  , 0.71, 0.  ,\n",
       "        0.  , 0.  , 0.  , 0.  , 0.  ],\n",
       "       [0.  , 0.  , 0.  , 0.  , 0.  , 0.  , 0.  , 0.  , 0.  , 0.  , 0.71,\n",
       "        0.  , 0.  , 0.  , 0.  , 0.  ],\n",
       "       [0.  , 0.  , 0.  , 0.  , 0.  , 0.  , 0.  , 0.  , 0.  , 0.  , 0.  ,\n",
       "        0.71, 0.  , 0.  , 0.  , 0.  ],\n",
       "       [0.  , 0.  , 0.  , 0.  , 0.  , 0.  , 0.  , 0.  , 0.  , 0.  , 0.  ,\n",
       "        0.  , 0.71, 0.  , 0.  , 0.  ],\n",
       "       [0.  , 0.  , 0.  , 0.  , 0.  , 0.  , 0.  , 0.  , 0.  , 0.  , 0.  ,\n",
       "        0.  , 0.  , 0.71, 0.  , 0.  ],\n",
       "       [0.  , 0.  , 0.  , 0.  , 0.  , 0.  , 0.  , 0.  , 0.  , 0.  , 0.  ,\n",
       "        0.  , 0.  , 0.  , 0.71, 0.  ]])"
      ]
     },
     "execution_count": 15,
     "metadata": {},
     "output_type": "execute_result"
    }
   ],
   "source": [
    "mat = np.diagflat(v = [0.34, 0.71, 0.71, 0.71, 0.71, 0.71, 0.71, 0.71, 0.71, 0.71, 0.71, 0.71, 0.71, 0.71, 0.71], k = -1)\n",
    "mat[0] = [0.63, 0.63, 1.2, 1.2, 1.2, 1.2, 1.2, 1.2, 1.2, 1.2, 1.2, 1.2, 1.2, 1.2, 1.2, 1.2]\n",
    "mat"
   ]
  },
  {
   "cell_type": "markdown",
   "id": "0e417383-81fd-4f04-97c9-bb67f31ab9cc",
   "metadata": {},
   "source": [
    "Find absoloute of eigenvalues"
   ]
  },
  {
   "cell_type": "code",
   "execution_count": 16,
   "id": "2f706809-f75f-44c2-aae0-6a71285ddca9",
   "metadata": {},
   "outputs": [
    {
     "data": {
      "text/plain": [
       "array([1.24144022, 0.70214402, 0.70214402, 0.69398395, 0.69398395,\n",
       "       0.68931255, 0.68931255, 0.68128789, 0.68128789, 0.66819245,\n",
       "       0.66819245, 0.65567934, 0.65567934, 0.64489783, 0.64761159,\n",
       "       0.64761159])"
      ]
     },
     "execution_count": 16,
     "metadata": {},
     "output_type": "execute_result"
    }
   ],
   "source": [
    "abs(np.linalg.eig(mat)[0])"
   ]
  },
  {
   "cell_type": "markdown",
   "id": "165353dc-e0c7-4b52-ac73-c0dabfda4396",
   "metadata": {},
   "source": [
    "Normalized distribution  "
   ]
  },
  {
   "cell_type": "code",
   "execution_count": 17,
   "id": "62a3fb1d-9be6-44de-acba-1bda86d625a8",
   "metadata": {},
   "outputs": [
    {
     "data": {
      "text/plain": [
       "array([[9.74731914e-01],\n",
       "       [2.48945231e-02],\n",
       "       [3.73562591e-04]])"
      ]
     },
     "execution_count": 17,
     "metadata": {},
     "output_type": "execute_result"
    }
   ],
   "source": [
    "np.real((1 / sum(b)) * b)"
   ]
  },
  {
   "cell_type": "code",
   "execution_count": 18,
   "id": "3f506d18-1d99-40ff-b05c-1e1773342928",
   "metadata": {},
   "outputs": [],
   "source": [
    "popl_0 = [[0], \n",
    "          [100], \n",
    "          [50], \n",
    "          [50],\n",
    "          [25],\n",
    "          [10],\n",
    "          [0],\n",
    "          [0],\n",
    "          [0],\n",
    "          [0],\n",
    "          [0],\n",
    "          [0],\n",
    "          [0],\n",
    "          [0],\n",
    "          [0],\n",
    "          [0]]"
   ]
  },
  {
   "cell_type": "markdown",
   "id": "c95f3cf3-9b53-4d82-a051-27595ad1a419",
   "metadata": {},
   "source": [
    "Model population distribution for ten years"
   ]
  },
  {
   "cell_type": "code",
   "execution_count": 19,
   "id": "e93736d2-3374-4f4e-b096-61a98b627310",
   "metadata": {},
   "outputs": [
    {
     "name": "stdout",
     "output_type": "stream",
     "text": [
      "n =  1 [[225.  ]\n",
      " [  0.  ]\n",
      " [ 71.  ]\n",
      " [ 35.5 ]\n",
      " [ 35.5 ]\n",
      " [ 17.75]\n",
      " [  7.1 ]\n",
      " [  0.  ]\n",
      " [  0.  ]\n",
      " [  0.  ]\n",
      " [  0.  ]\n",
      " [  0.  ]\n",
      " [  0.  ]\n",
      " [  0.  ]\n",
      " [  0.  ]\n",
      " [  0.  ]]\n",
      "n =  2 [[341.97  ]\n",
      " [ 76.5   ]\n",
      " [  0.    ]\n",
      " [ 50.41  ]\n",
      " [ 25.205 ]\n",
      " [ 25.205 ]\n",
      " [ 12.6025]\n",
      " [  5.041 ]\n",
      " [  0.    ]\n",
      " [  0.    ]\n",
      " [  0.    ]\n",
      " [  0.    ]\n",
      " [  0.    ]\n",
      " [  0.    ]\n",
      " [  0.    ]\n",
      " [  0.    ]]\n",
      "n =  3 [[405.7923  ]\n",
      " [116.2698  ]\n",
      " [ 54.315   ]\n",
      " [  0.      ]\n",
      " [ 35.7911  ]\n",
      " [ 17.89555 ]\n",
      " [ 17.89555 ]\n",
      " [  8.947775]\n",
      " [  3.57911 ]\n",
      " [  0.      ]\n",
      " [  0.      ]\n",
      " [  0.      ]\n",
      " [  0.      ]\n",
      " [  0.      ]\n",
      " [  0.      ]\n",
      " [  0.      ]]\n",
      "n =  4 [[495.008025  ]\n",
      " [137.969382  ]\n",
      " [ 82.551558  ]\n",
      " [ 38.56365   ]\n",
      " [  0.        ]\n",
      " [ 25.411681  ]\n",
      " [ 12.7058405 ]\n",
      " [ 12.7058405 ]\n",
      " [  6.35292025]\n",
      " [  2.5411681 ]\n",
      " [  0.        ]\n",
      " [  0.        ]\n",
      " [  0.        ]\n",
      " [  0.        ]\n",
      " [  0.        ]\n",
      " [  0.        ]]\n",
      "n =  5 [[615.77495643]\n",
      " [168.3027285 ]\n",
      " [ 97.95826122]\n",
      " [ 58.61160618]\n",
      " [ 27.3801915 ]\n",
      " [  0.        ]\n",
      " [ 18.04229351]\n",
      " [  9.02114675]\n",
      " [  9.02114675]\n",
      " [  4.51057338]\n",
      " [  1.80422935]\n",
      " [  0.        ]\n",
      " [  0.        ]\n",
      " [  0.        ]\n",
      " [  0.        ]\n",
      " [  0.        ]]\n",
      "n =  6 [[765.58827988]\n",
      " [209.36348519]\n",
      " [119.49493724]\n",
      " [ 69.55036547]\n",
      " [ 41.61424039]\n",
      " [ 19.43993596]\n",
      " [  0.        ]\n",
      " [ 12.81002839]\n",
      " [  6.4050142 ]\n",
      " [  6.4050142 ]\n",
      " [  3.2025071 ]\n",
      " [  1.28100284]\n",
      " [  0.        ]\n",
      " [  0.        ]\n",
      " [  0.        ]\n",
      " [  0.        ]]\n",
      "n =  7 [[9.50463267e+02]\n",
      " [2.60300015e+02]\n",
      " [1.48648074e+02]\n",
      " [8.48414054e+01]\n",
      " [4.93807595e+01]\n",
      " [2.95461107e+01]\n",
      " [1.38023545e+01]\n",
      " [0.00000000e+00]\n",
      " [9.09512016e+00]\n",
      " [4.54756008e+00]\n",
      " [4.54756008e+00]\n",
      " [2.27378004e+00]\n",
      " [9.09512016e-01]\n",
      " [0.00000000e+00]\n",
      " [0.00000000e+00]\n",
      " [0.00000000e+00]]\n",
      "n =  8 [[1.17989155e+03]\n",
      " [3.23157511e+02]\n",
      " [1.84813011e+02]\n",
      " [1.05540133e+02]\n",
      " [6.02373979e+01]\n",
      " [3.50603392e+01]\n",
      " [2.09777386e+01]\n",
      " [9.79967172e+00]\n",
      " [0.00000000e+00]\n",
      " [6.45753531e+00]\n",
      " [3.22876766e+00]\n",
      " [3.22876766e+00]\n",
      " [1.61438383e+00]\n",
      " [6.45753531e-01]\n",
      " [0.00000000e+00]\n",
      " [0.00000000e+00]]\n",
      "n =  9 [[1.46484511e+03]\n",
      " [4.01163128e+02]\n",
      " [2.29441833e+02]\n",
      " [1.31217238e+02]\n",
      " [7.49334943e+01]\n",
      " [4.27685525e+01]\n",
      " [2.48928409e+01]\n",
      " [1.48941944e+01]\n",
      " [6.95776692e+00]\n",
      " [0.00000000e+00]\n",
      " [4.58485007e+00]\n",
      " [2.29242504e+00]\n",
      " [2.29242504e+00]\n",
      " [1.14621252e+00]\n",
      " [4.58485007e-01]\n",
      " [0.00000000e+00]]\n",
      "n =  10 [[1.81864157e+03]\n",
      " [4.98047337e+02]\n",
      " [2.84825821e+02]\n",
      " [1.62903701e+02]\n",
      " [9.31642387e+01]\n",
      " [5.32027810e+01]\n",
      " [3.03656723e+01]\n",
      " [1.76739170e+01]\n",
      " [1.05748780e+01]\n",
      " [4.94001451e+00]\n",
      " [0.00000000e+00]\n",
      " [3.25524355e+00]\n",
      " [1.62762178e+00]\n",
      " [1.62762178e+00]\n",
      " [8.13810888e-01]\n",
      " [3.25524355e-01]]\n"
     ]
    }
   ],
   "source": [
    "\n",
    "for i in range(10):\n",
    "    a = np.matmul(mat, popl_0)\n",
    "    print(\"n = \", i + 1, a)\n",
    "    popl_0 = np.matmul(mat, popl_0)\n",
    "\n"
   ]
  },
  {
   "cell_type": "code",
   "execution_count": 20,
   "id": "d32c72ca-e1f9-403b-83c1-5d96aa568244",
   "metadata": {},
   "outputs": [
    {
     "data": {
      "text/plain": [
       "array([[9.74731914e-01],\n",
       "       [2.48945231e-02],\n",
       "       [3.73562591e-04]])"
      ]
     },
     "execution_count": 20,
     "metadata": {},
     "output_type": "execute_result"
    }
   ],
   "source": [
    "np.real((1 / sum(b)) * b)"
   ]
  },
  {
   "cell_type": "code",
   "execution_count": 21,
   "id": "74b91554-8b65-4d98-ba1a-7f8db6f881dc",
   "metadata": {},
   "outputs": [
    {
     "data": {
      "text/plain": [
       "array([[6.09895481e-01],\n",
       "       [1.67035822e-01],\n",
       "       [9.55311681e-02],\n",
       "       [5.46349800e-02],\n",
       "       [3.12447690e-02],\n",
       "       [1.78701162e-02],\n",
       "       [1.02205590e-02],\n",
       "       [5.84592160e-03],\n",
       "       [3.34367369e-03],\n",
       "       [1.91237495e-03],\n",
       "       [1.09365063e-03],\n",
       "       [6.25434089e-04],\n",
       "       [3.57676398e-04],\n",
       "       [2.04569968e-04],\n",
       "       [1.16993078e-04],\n",
       "       [6.68105828e-05]])"
      ]
     },
     "execution_count": 21,
     "metadata": {},
     "output_type": "execute_result"
    }
   ],
   "source": [
    "tenn = np.matmul(np.linalg.matrix_power(mat, 10), popl_0)\n",
    "(1/sum(tenn)) * tenn"
   ]
  },
  {
   "cell_type": "markdown",
   "id": "5d80b1d0-0898-4dbd-9851-5f7575c71ae6",
   "metadata": {},
   "source": [
    "Worst case data:"
   ]
  },
  {
   "cell_type": "code",
   "execution_count": 22,
   "id": "a6856d3d-1f4c-4bd3-a493-49da0fe04d6d",
   "metadata": {},
   "outputs": [
    {
     "data": {
      "text/plain": [
       "array([[0.6 , 0.6 , 1.15, 1.15, 1.15, 1.15, 1.15, 1.15, 1.15, 1.15, 1.15,\n",
       "        1.15, 1.15, 1.15, 1.15, 1.15],\n",
       "       [0.32, 0.  , 0.  , 0.  , 0.  , 0.  , 0.  , 0.  , 0.  , 0.  , 0.  ,\n",
       "        0.  , 0.  , 0.  , 0.  , 0.  ],\n",
       "       [0.  , 0.68, 0.  , 0.  , 0.  , 0.  , 0.  , 0.  , 0.  , 0.  , 0.  ,\n",
       "        0.  , 0.  , 0.  , 0.  , 0.  ],\n",
       "       [0.  , 0.  , 0.68, 0.  , 0.  , 0.  , 0.  , 0.  , 0.  , 0.  , 0.  ,\n",
       "        0.  , 0.  , 0.  , 0.  , 0.  ],\n",
       "       [0.  , 0.  , 0.  , 0.68, 0.  , 0.  , 0.  , 0.  , 0.  , 0.  , 0.  ,\n",
       "        0.  , 0.  , 0.  , 0.  , 0.  ],\n",
       "       [0.  , 0.  , 0.  , 0.  , 0.68, 0.  , 0.  , 0.  , 0.  , 0.  , 0.  ,\n",
       "        0.  , 0.  , 0.  , 0.  , 0.  ],\n",
       "       [0.  , 0.  , 0.  , 0.  , 0.  , 0.68, 0.  , 0.  , 0.  , 0.  , 0.  ,\n",
       "        0.  , 0.  , 0.  , 0.  , 0.  ],\n",
       "       [0.  , 0.  , 0.  , 0.  , 0.  , 0.  , 0.68, 0.  , 0.  , 0.  , 0.  ,\n",
       "        0.  , 0.  , 0.  , 0.  , 0.  ],\n",
       "       [0.  , 0.  , 0.  , 0.  , 0.  , 0.  , 0.  , 0.68, 0.  , 0.  , 0.  ,\n",
       "        0.  , 0.  , 0.  , 0.  , 0.  ],\n",
       "       [0.  , 0.  , 0.  , 0.  , 0.  , 0.  , 0.  , 0.  , 0.68, 0.  , 0.  ,\n",
       "        0.  , 0.  , 0.  , 0.  , 0.  ],\n",
       "       [0.  , 0.  , 0.  , 0.  , 0.  , 0.  , 0.  , 0.  , 0.  , 0.68, 0.  ,\n",
       "        0.  , 0.  , 0.  , 0.  , 0.  ],\n",
       "       [0.  , 0.  , 0.  , 0.  , 0.  , 0.  , 0.  , 0.  , 0.  , 0.  , 0.68,\n",
       "        0.  , 0.  , 0.  , 0.  , 0.  ],\n",
       "       [0.  , 0.  , 0.  , 0.  , 0.  , 0.  , 0.  , 0.  , 0.  , 0.  , 0.  ,\n",
       "        0.68, 0.  , 0.  , 0.  , 0.  ],\n",
       "       [0.  , 0.  , 0.  , 0.  , 0.  , 0.  , 0.  , 0.  , 0.  , 0.  , 0.  ,\n",
       "        0.  , 0.68, 0.  , 0.  , 0.  ],\n",
       "       [0.  , 0.  , 0.  , 0.  , 0.  , 0.  , 0.  , 0.  , 0.  , 0.  , 0.  ,\n",
       "        0.  , 0.  , 0.68, 0.  , 0.  ],\n",
       "       [0.  , 0.  , 0.  , 0.  , 0.  , 0.  , 0.  , 0.  , 0.  , 0.  , 0.  ,\n",
       "        0.  , 0.  , 0.  , 0.68, 0.  ]])"
      ]
     },
     "execution_count": 22,
     "metadata": {},
     "output_type": "execute_result"
    }
   ],
   "source": [
    "mat_w = np.diagflat(v = [0.32, 0.68, 0.68, 0.68, 0.68, 0.68, 0.68, 0.68, 0.68, 0.68, 0.68, 0.68, 0.68, 0.68, 0.68], k = -1)\n",
    "mat_w[0] = [0.6, 0.6, 1.15, 1.15, 1.15, 1.15, 1.15, 1.15, 1.15, 1.15, 1.15, 1.15, 1.15, 1.15, 1.15, 1.15]\n",
    "mat_w"
   ]
  },
  {
   "cell_type": "markdown",
   "id": "c952ec4e-184a-4fb2-b5e9-afdb3e5cf6b8",
   "metadata": {},
   "source": [
    "Eigenvalues for worst case matrix"
   ]
  },
  {
   "cell_type": "code",
   "execution_count": 23,
   "id": "cf6a07b4-1926-4f0e-a03e-b04448e34e44",
   "metadata": {},
   "outputs": [
    {
     "data": {
      "text/plain": [
       "array([1.18285182, 0.67231098, 0.67231098, 0.66435147, 0.66435147,\n",
       "       0.65973619, 0.65973619, 0.65190474, 0.65190474, 0.63930735,\n",
       "       0.63930735, 0.62733614, 0.62733614, 0.61703866, 0.61962992,\n",
       "       0.61962992])"
      ]
     },
     "execution_count": 23,
     "metadata": {},
     "output_type": "execute_result"
    }
   ],
   "source": [
    "abs(np.linalg.eig(mat_w)[0])"
   ]
  },
  {
   "cell_type": "markdown",
   "id": "b26b5fbe-ebbe-467c-a6ef-636b86680a34",
   "metadata": {},
   "source": [
    "Eigenvector for dominant eigenvalue"
   ]
  },
  {
   "cell_type": "code",
   "execution_count": 24,
   "id": "12630c42-c070-4ded-88c7-68da7e19008f",
   "metadata": {},
   "outputs": [
    {
     "data": {
      "text/plain": [
       "array([9.49450805e-01, 2.56857412e-01, 1.47662655e-01, 8.48885752e-02,\n",
       "       4.88008981e-02, 2.80547488e-02, 1.61281649e-02, 9.27178871e-03,\n",
       "       5.33018272e-03, 3.06422511e-03, 1.76156729e-03, 1.01269300e-03,\n",
       "       5.82178790e-04, 3.34683999e-04, 1.92403745e-04, 1.10609414e-04])"
      ]
     },
     "execution_count": 24,
     "metadata": {},
     "output_type": "execute_result"
    }
   ],
   "source": [
    "np.real(np.linalg.eig(mat_w)[1][:,0])"
   ]
  },
  {
   "cell_type": "markdown",
   "id": "f0a709f5-0db7-4226-9a20-e98772cf14e8",
   "metadata": {},
   "source": [
    "Eigenvector distribution"
   ]
  },
  {
   "cell_type": "code",
   "execution_count": 25,
   "id": "ad879b46-4da7-48a6-b751-f90d3410ac00",
   "metadata": {},
   "outputs": [
    {
     "data": {
      "text/plain": [
       "array([6.11167434e-01, 1.65340726e-01, 9.50513768e-02, 5.46433079e-02,\n",
       "       3.14134440e-02, 1.80590177e-02, 1.03818009e-02, 5.96830851e-03,\n",
       "       3.43107203e-03, 1.97246091e-03, 1.13393191e-03, 6.51876833e-04,\n",
       "       3.74752136e-04, 2.15438188e-04, 1.23851496e-04, 7.11999730e-05])"
      ]
     },
     "execution_count": 25,
     "metadata": {},
     "output_type": "execute_result"
    }
   ],
   "source": [
    "(1 / sum(np.real(np.linalg.eig(mat_w)[1][:,0]))) * np.real(np.linalg.eig(mat_w)[1][:,0])"
   ]
  },
  {
   "cell_type": "markdown",
   "id": "a4a6ba32-a69f-4e76-9f4a-40f883bebc08",
   "metadata": {},
   "source": [
    "Initial population and the distribution after ten years"
   ]
  },
  {
   "cell_type": "code",
   "execution_count": 26,
   "id": "b1b1441f-cc2a-465b-814d-2620d5c3415e",
   "metadata": {},
   "outputs": [
    {
     "data": {
      "text/plain": [
       "array([[6.11145255e-01],\n",
       "       [1.65322684e-01],\n",
       "       [9.50354888e-02],\n",
       "       [5.46364130e-02],\n",
       "       [3.14078690e-02],\n",
       "       [1.80282721e-02],\n",
       "       [1.03441760e-02],\n",
       "       [6.05416236e-03],\n",
       "       [3.63864385e-03],\n",
       "       [1.70199508e-03],\n",
       "       [0.00000000e+00],\n",
       "       [1.14257045e-03],\n",
       "       [5.71285225e-04],\n",
       "       [5.71285225e-04],\n",
       "       [2.85642612e-04],\n",
       "       [1.14257045e-04]])"
      ]
     },
     "execution_count": 26,
     "metadata": {},
     "output_type": "execute_result"
    }
   ],
   "source": [
    "pop_0 = [[0], \n",
    "          [100], \n",
    "          [50], \n",
    "          [50],\n",
    "          [25],\n",
    "          [10],\n",
    "          [0],\n",
    "          [0],\n",
    "          [0],\n",
    "          [0],\n",
    "          [0],\n",
    "          [0],\n",
    "          [0],\n",
    "          [0],\n",
    "          [0],\n",
    "          [0]]\n",
    "ten = np.matmul(np.linalg.matrix_power(mat_w, 10), pop_0)\n",
    "(1/sum(ten)) * ten"
   ]
  },
  {
   "cell_type": "markdown",
   "id": "fa932fa8-5c22-4050-813f-39b228eba26e",
   "metadata": {},
   "source": [
    "Question 8"
   ]
  },
  {
   "cell_type": "markdown",
   "id": "2edd4113-8e7d-4b75-8e55-1dfccd27f0e8",
   "metadata": {},
   "source": [
    "legal BAC in California: 0.08g/100mL or 80g/L"
   ]
  },
  {
   "cell_type": "markdown",
   "id": "38530103-212b-4f33-b202-250cde20a575",
   "metadata": {},
   "source": [
    "Function taking in weight, number of regular beers, and time(in seconds) to determine BAC of a male drinking the number of beers instaneously"
   ]
  },
  {
   "cell_type": "code",
   "execution_count": 27,
   "id": "19e4bbe2-bcdf-4ed6-9a30-fc04c867f921",
   "metadata": {},
   "outputs": [],
   "source": [
    "def bac_male_beers(weight_lbs, beers, time):\n",
    "    weight_kg = weight_lbs / 2.2046\n",
    "    fluids = weight_kg * 0.68\n",
    "    grams = beers * 13.6 - (12 / 60) * time\n",
    "    grams_per_liter = grams / fluids\n",
    "    return grams_per_liter"
   ]
  },
  {
   "cell_type": "markdown",
   "id": "395f403f-0e55-46c9-aa50-7bc386055b45",
   "metadata": {},
   "source": [
    "Plotting 300 seconds of BAC of 150lb make drinking 6 beers instantaneously  "
   ]
  },
  {
   "cell_type": "code",
   "execution_count": 28,
   "id": "66e3cb81-fb71-46fe-b575-760a19f25ebb",
   "metadata": {},
   "outputs": [
    {
     "data": {
      "text/plain": [
       "<matplotlib.lines.Line2D at 0x7fb05f872e50>"
      ]
     },
     "execution_count": 28,
     "metadata": {},
     "output_type": "execute_result"
    },
    {
     "data": {
      "image/png": "[encoded data removed]",
      "text/plain": [
       "<Figure size 432x288 with 1 Axes>"
      ]
     },
     "metadata": {
      "needs_background": "light"
     },
     "output_type": "display_data"
    }
   ],
   "source": [
    "bacs = []\n",
    "for i in range(300):\n",
    "    bacs.append(bac_male_beers(150, 6, i))\n",
    "\n",
    "x = range(300)\n",
    "plt.plot(x, bacs, )\n",
    "plt.xlabel(\"time(min)\")\n",
    "plt.ylabel(\"BAC(g/L)\")\n",
    "plt.axhline(y = 0.8, color = \"red\")\n"
   ]
  },
  {
   "cell_type": "markdown",
   "id": "6c54ffea-7463-4ec1-aed1-8c702b5fe79b",
   "metadata": {},
   "source": [
    "Amount of time for a 150lb male who drank 6 beers instantaneously to reach a BAC at or below 0.08."
   ]
  },
  {
   "cell_type": "code",
   "execution_count": 29,
   "id": "8eb8273e-9c5b-4bdd-9932-e19b438dc1f9",
   "metadata": {},
   "outputs": [
    {
     "name": "stdout",
     "output_type": "stream",
     "text": [
      "223\n"
     ]
    }
   ],
   "source": [
    "for i in range(300):\n",
    "    if bac_male_beers(150, 6, i) <= 0.8:\n",
    "        print(i)\n",
    "        break\n",
    "    "
   ]
  },
  {
   "cell_type": "markdown",
   "id": "711d7556-0d80-460a-8a8a-547030d3d0ca",
   "metadata": {},
   "source": [
    "Function returning BAC of a male who drinks 3 beers per hour after time in seconds"
   ]
  },
  {
   "cell_type": "code",
   "execution_count": 30,
   "id": "cb50c96c-0ef1-488d-9ff8-723c76c8a75e",
   "metadata": {},
   "outputs": [],
   "source": [
    "def bac_male_beers(weight_lbs, time):\n",
    "    weight_kg = weight_lbs / 2.2046\n",
    "    fluids = weight_kg * 0.68\n",
    "    grams = (13.6 / 20) * time - (12 / 60) * time\n",
    "    grams_per_liter = grams / fluids\n",
    "    return grams_per_liter"
   ]
  },
  {
   "cell_type": "markdown",
   "id": "c0ec5832-5776-4353-bb68-82e5afcef96e",
   "metadata": {},
   "source": [
    "BAC of 150 lb male drinking 3 beers per hour."
   ]
  },
  {
   "cell_type": "code",
   "execution_count": 31,
   "id": "e4fc34dc-6448-4cb9-94bd-22384770f2e3",
   "metadata": {},
   "outputs": [],
   "source": [
    "bacs = []\n",
    "for i in range(250):\n",
    "    bacs.append(bac_male_beers(150, i))"
   ]
  },
  {
   "cell_type": "code",
   "execution_count": 32,
   "id": "3dcc3388-3e84-447b-b53e-8d87d09589cf",
   "metadata": {},
   "outputs": [
    {
     "data": {
      "text/plain": [
       "<matplotlib.lines.Line2D at 0x7fb05e07c190>"
      ]
     },
     "execution_count": 32,
     "metadata": {},
     "output_type": "execute_result"
    },
    {
     "data": {
      "image/png": "[encoded data removed]",
      "text/plain": [
       "<Figure size 432x288 with 1 Axes>"
      ]
     },
     "metadata": {
      "needs_background": "light"
     },
     "output_type": "display_data"
    }
   ],
   "source": [
    "plt.plot(range(250), bacs)\n",
    "plt.xlabel(\"Time(minutes)\")\n",
    "plt.ylabel(\"BAC(g/L)\")\n",
    "plt.axhline(y=0.8, color = \"red\")\n"
   ]
  },
  {
   "cell_type": "markdown",
   "id": "c7c1743e-deb9-4912-ae08-d8dfc30b7edc",
   "metadata": {},
   "source": [
    "shot every hour, alcohol his in ten minutes\n",
    "beer every half hour, continuous\n"
   ]
  },
  {
   "cell_type": "markdown",
   "id": "556264bc-6332-4d19-bfa2-bece50196540",
   "metadata": {},
   "source": [
    "Model of a 150lb male drinking 1 vodka shot per hour in which the alcohol fully enters the bloodstream in 10 minutes and 1 beer every 45 minutes in which the alcohol continuosly enters the bloodstream."
   ]
  },
  {
   "cell_type": "code",
   "execution_count": 33,
   "id": "8bd6d9e5-2f40-4a37-acc0-b6e8d695b50c",
   "metadata": {},
   "outputs": [],
   "source": [
    "bacs = []\n",
    "grams = 0\n",
    "weight_lbs = 150\n",
    "weight_kg = weight_lbs / 2.2046\n",
    "fluids = weight_kg * 0.68\n",
    "for i in range(600):\n",
    "    grams += (13.6 / 45)\n",
    "    grams -= (12 / 60)\n",
    "    if (i % 60) > 0 and i % 60 <= 10:\n",
    "        grams += 1.67\n",
    "    \n",
    "    bacs.append(grams / fluids)"
   ]
  },
  {
   "cell_type": "code",
   "execution_count": 34,
   "id": "54675d8a-3579-4b6b-b808-f5b5cec3c252",
   "metadata": {},
   "outputs": [
    {
     "data": {
      "text/plain": [
       "<matplotlib.lines.Line2D at 0x7fb05fc1fe80>"
      ]
     },
     "execution_count": 34,
     "metadata": {},
     "output_type": "execute_result"
    },
    {
     "data": {
      "image/png": "[encoded data removed]",
      "text/plain": [
       "<Figure size 432x288 with 1 Axes>"
      ]
     },
     "metadata": {
      "needs_background": "light"
     },
     "output_type": "display_data"
    }
   ],
   "source": [
    "x = range(600)\n",
    "plt.plot(x, bacs)\n",
    "plt.xlabel(\"Time(minutes)\")\n",
    "plt.ylabel(\"BAC(g/L)\")\n",
    "plt.axhline(y = 0.8, color = \"red\")\n",
    "plt.axhline(y = 4, color = \"red\")\n",
    "plt.axhline(y = 4.5, color = \"red\")"
   ]
  },
  {
   "cell_type": "markdown",
   "id": "d8a2f33a-dc3d-4481-97de-e1d45842c096",
   "metadata": {},
   "source": [
    "Bottom red line is legal limit to drive, middle red line is amount to put someone in a coma, the top red line is the amount to cause death"
   ]
  },
  {
   "cell_type": "code",
   "execution_count": null,
   "id": "2d0780e4-0619-4f48-b318-94223eb194ba",
   "metadata": {},
   "outputs": [],
   "source": []
  }
 ],
 "metadata": {
  "kernelspec": {
   "display_name": "Python 3 (ipykernel)",
   "language": "python",
   "name": "python3"
  },
  "language_info": {
   "codemirror_mode": {
    "name": "ipython",
    "version": 3
   },
   "file_extension": ".py",
   "mimetype": "text/x-python",
   "name": "python",
   "nbconvert_exporter": "python",
   "pygments_lexer": "ipython3",
   "version": "3.9.7"
  }
 },
 "nbformat": 4,
 "nbformat_minor": 5
}
