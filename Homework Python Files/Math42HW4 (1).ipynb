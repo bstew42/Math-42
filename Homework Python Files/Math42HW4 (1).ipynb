{
 "cells": [
  {
   "cell_type": "code",
   "execution_count": 25,
   "id": "4a578ed7-f6af-4e2c-9324-1e886fe3ed4f",
   "metadata": {},
   "outputs": [],
   "source": [
    "import numpy as np\n",
    "from numpy.linalg import eig\n",
    "from matplotlib import pyplot as plt"
   ]
  },
  {
   "cell_type": "code",
   "execution_count": 78,
   "id": "8729d05d-2e73-4859-b805-584b2bcbaafc",
   "metadata": {},
   "outputs": [],
   "source": [
    "def x(N, P):\n",
    "    J = np.matrix([[1.2-0.04*N-0.04*P, -0.04*N], \n",
    "               [0.02*P, 0.9-0.02*P+0.02*N]])\n",
    "    eigenvalues = np.linalg.eig(J)[0]\n",
    "    if any(abs(eigenvalues) > 1):\n",
    "        return \"Unstable\"\n",
    "    return \"Stable\"\n"
   ]
  },
  {
   "cell_type": "code",
   "execution_count": 79,
   "id": "d1beb1a6-1c1a-4d57-8828-546493df7462",
   "metadata": {},
   "outputs": [
    {
     "data": {
      "text/plain": [
       "'Unstable'"
      ]
     },
     "execution_count": 79,
     "metadata": {},
     "output_type": "execute_result"
    }
   ],
   "source": [
    "x(0,0)"
   ]
  },
  {
   "cell_type": "code",
   "execution_count": 80,
   "id": "7aad4807-18d2-48d4-82e5-77377d53eb07",
   "metadata": {},
   "outputs": [
    {
     "data": {
      "text/plain": [
       "'Unstable'"
      ]
     },
     "execution_count": 80,
     "metadata": {},
     "output_type": "execute_result"
    }
   ],
   "source": [
    "x(0, -10)"
   ]
  },
  {
   "cell_type": "code",
   "execution_count": 81,
   "id": "dc5fc66c-4e31-47f2-9c77-1f5f67f3b226",
   "metadata": {},
   "outputs": [
    {
     "data": {
      "text/plain": [
       "'Unstable'"
      ]
     },
     "execution_count": 81,
     "metadata": {},
     "output_type": "execute_result"
    }
   ],
   "source": [
    "x(10, 0)"
   ]
  },
  {
   "cell_type": "code",
   "execution_count": 82,
   "id": "a17dddb3-92a1-4235-bc65-5d0e43eecefd",
   "metadata": {},
   "outputs": [
    {
     "data": {
      "text/plain": [
       "'Stable'"
      ]
     },
     "execution_count": 82,
     "metadata": {},
     "output_type": "execute_result"
    }
   ],
   "source": [
    "x(6, 2)"
   ]
  },
  {
   "cell_type": "code",
   "execution_count": 83,
   "id": "54a5404a-8a1d-4950-a711-cf826613aa21",
   "metadata": {},
   "outputs": [
    {
     "data": {
      "text/plain": [
       "(array([0.8, 1.1]),\n",
       " matrix([[ 1. , -0.8],\n",
       "         [ 0. ,  0.6]]))"
      ]
     },
     "execution_count": 83,
     "metadata": {},
     "output_type": "execute_result"
    }
   ],
   "source": [
    "J = np.matrix([[1.2-0.04*10-0.04*0, -0.04*10], \n",
    "               [0.02*0, 0.9-0.02*0+0.02*10]])\n",
    "np.linalg.eig(J)"
   ]
  },
  {
   "cell_type": "code",
   "execution_count": 75,
   "id": "ebfe9f37-bf47-4862-8dc7-0eafe5d26299",
   "metadata": {},
   "outputs": [],
   "source": [
    "def model(state):\n",
    "    n, p= state\n",
    "    return(1.2*n-0.02*n**2-0.04*n*p, 0.9*p-0.01*p**2+0.02*n*p)"
   ]
  },
  {
   "cell_type": "code",
   "execution_count": 76,
   "id": "1ce467c9-e654-4059-bf5f-4af08eaa1221",
   "metadata": {},
   "outputs": [],
   "source": [
    "initial = (2, 8)\n",
    "x = []\n",
    "y=[]\n",
    "for i in range(100):\n",
    "    initial = model(initial)\n",
    "    x.append(initial[0])\n",
    "    y.append(initial[1])\n"
   ]
  },
  {
   "cell_type": "code",
   "execution_count": 77,
   "id": "9983873e-e075-4b02-b976-f3a577e467a1",
   "metadata": {},
   "outputs": [
    {
     "data": {
      "text/plain": [
       "(0.0, 10.0)"
      ]
     },
     "execution_count": 77,
     "metadata": {},
     "output_type": "execute_result"
    },
    {
     "data": {
      "image/png": "[encoded data removed]",
      "text/plain": [
       "<Figure size 432x288 with 1 Axes>"
      ]
     },
     "metadata": {
      "needs_background": "light"
     },
     "output_type": "display_data"
    }
   ],
   "source": [
    "plt.scatter(x, y)\n",
    "plt.xlim([0, 10])\n",
    "plt.ylim([0,10])"
   ]
  },
  {
   "cell_type": "code",
   "execution_count": 84,
   "id": "cf0c62b8-d18b-4782-b875-e248558ea3f6",
   "metadata": {},
   "outputs": [],
   "source": [
    "def P(p, d):\n",
    "    return ((1 - p**(d-1))/(1-p**d)) * p"
   ]
  },
  {
   "cell_type": "code",
   "execution_count": 97,
   "id": "540764c3-8696-4589-a4aa-e84676b731a5",
   "metadata": {},
   "outputs": [],
   "source": [
    "def G(p, d):\n",
    "    return ((p**d) * (1 - p)) / (1 - p**d)"
   ]
  },
  {
   "cell_type": "code",
   "execution_count": 98,
   "id": "559d997d-b4b8-4000-9f63-4e9bb38c89ce",
   "metadata": {},
   "outputs": [],
   "source": [
    "P2 = P(0.7857, 7)"
   ]
  },
  {
   "cell_type": "code",
   "execution_count": 99,
   "id": "5e7dc828-7341-44d2-bcca-74df96138f5a",
   "metadata": {},
   "outputs": [],
   "source": [
    "G2 = G(0.7857, 7)"
   ]
  },
  {
   "cell_type": "code",
   "execution_count": 100,
   "id": "6917b659-4b3b-4938-952b-bab4de00de15",
   "metadata": {},
   "outputs": [],
   "source": [
    "P3 = P(0.6758 , 8)"
   ]
  },
  {
   "cell_type": "code",
   "execution_count": 101,
   "id": "e1bcb98f-5c0e-497c-9e1e-b04c99952f92",
   "metadata": {},
   "outputs": [],
   "source": [
    "G3 = G(0.6758, 8)"
   ]
  },
  {
   "cell_type": "code",
   "execution_count": 102,
   "id": "41ec3309-0413-4e2e-9847-b994b2ff5a8e",
   "metadata": {},
   "outputs": [],
   "source": [
    "P4 = P(0.7425 , 6)"
   ]
  },
  {
   "cell_type": "code",
   "execution_count": 136,
   "id": "7a91d493-a878-4e1f-9525-4bd60bf92956",
   "metadata": {},
   "outputs": [],
   "source": [
    "G4 = G(0.7425 , 6)"
   ]
  },
  {
   "cell_type": "code",
   "execution_count": 167,
   "id": "23d7a134-2d9d-4743-b597-049608ca2606",
   "metadata": {},
   "outputs": [],
   "source": [
    "A = np.diagflat([0.6747, G2, G3, G4, 0.8091 , 0.8091], -1)\n",
    "np.fill_diagonal(A, [0, P2, P3, P4, 0, 0, 0.8091])\n",
    "A[0,] = [0, 0, 0, 0, 127, 4, 80]"
   ]
  },
  {
   "cell_type": "code",
   "execution_count": 177,
   "id": "45aa737d-b7ea-4649-a58c-62aa7d5fb046",
   "metadata": {},
   "outputs": [
    {
     "data": {
      "text/plain": [
       "array([[0.00000000e+00, 0.00000000e+00, 0.00000000e+00, 0.00000000e+00,\n",
       "        1.27000000e+02, 4.00000000e+00, 8.00000000e+01],\n",
       "       [6.74700000e-01, 7.37106646e-01, 0.00000000e+00, 0.00000000e+00,\n",
       "        0.00000000e+00, 0.00000000e+00, 0.00000000e+00],\n",
       "       [0.00000000e+00, 4.85933545e-02, 6.61053937e-01, 0.00000000e+00,\n",
       "        0.00000000e+00, 0.00000000e+00, 0.00000000e+00],\n",
       "       [0.00000000e+00, 0.00000000e+00, 1.47460633e-02, 6.90667193e-01,\n",
       "        0.00000000e+00, 0.00000000e+00, 0.00000000e+00],\n",
       "       [0.00000000e+00, 0.00000000e+00, 0.00000000e+00, 5.18328073e-02,\n",
       "        0.00000000e+00, 0.00000000e+00, 0.00000000e+00],\n",
       "       [0.00000000e+00, 0.00000000e+00, 0.00000000e+00, 0.00000000e+00,\n",
       "        8.09100000e-01, 0.00000000e+00, 0.00000000e+00],\n",
       "       [0.00000000e+00, 0.00000000e+00, 0.00000000e+00, 0.00000000e+00,\n",
       "        0.00000000e+00, 8.09100000e-01, 8.09100000e-01]])"
      ]
     },
     "execution_count": 177,
     "metadata": {},
     "output_type": "execute_result"
    }
   ],
   "source": [
    "A"
   ]
  },
  {
   "cell_type": "code",
   "execution_count": 180,
   "id": "843268a4-04d4-484c-bea5-422ca472b472",
   "metadata": {},
   "outputs": [],
   "source": [
    "initial = np.matrix([[0],\n",
    "           [30],\n",
    "           [40],\n",
    "           [30],\n",
    "           [10],\n",
    "           [10],\n",
    "           [10]])"
   ]
  },
  {
   "cell_type": "code",
   "execution_count": 185,
   "id": "47cba61f-351d-418d-bb6c-c1c31a3d55fd",
   "metadata": {},
   "outputs": [
    {
     "data": {
      "text/plain": [
       "matrix([[5.75109503e+02],\n",
       "        [2.29784980e+03],\n",
       "        [3.72237032e+02],\n",
       "        [1.52970547e+01],\n",
       "        [7.30169881e-01],\n",
       "        [5.24392846e-01],\n",
       "        [5.33052305e+00]])"
      ]
     },
     "execution_count": 185,
     "metadata": {},
     "output_type": "execute_result"
    }
   ],
   "source": [
    "np.matmul(np.linalg.matrix_power(A, 10), initial)"
   ]
  },
  {
   "cell_type": "code",
   "execution_count": 184,
   "id": "09a60b58-b142-4a04-8487-4e748880768c",
   "metadata": {},
   "outputs": [
    {
     "data": {
      "text/plain": [
       "(array([-0.08853853+0.11971321j, -0.08853853-0.11971321j,\n",
       "         0.26625279+0.j        ,  0.37093228+0.j        ,\n",
       "         0.74626636+0.21320062j,  0.74626636-0.21320062j,\n",
       "         0.94528704+0.j        ]),\n",
       " array([[-7.76918653e-01+0.00000000e+00j, -7.76918653e-01-0.00000000e+00j,\n",
       "         -5.69389661e-01+0.00000000e+00j, -4.71898759e-01+0.00000000e+00j,\n",
       "         -1.26870327e-02-2.95302077e-01j, -1.26870327e-02+2.95302077e-01j,\n",
       "          2.90965719e-01+0.00000000e+00j],\n",
       "        [ 6.21809329e-01+9.01583286e-02j,  6.21809329e-01-9.01583286e-02j,\n",
       "          8.15894785e-01+0.00000000e+00j,  8.69504043e-01+0.00000000e+00j,\n",
       "         -9.34520339e-01+0.00000000e+00j, -9.34520339e-01-0.00000000e+00j,\n",
       "          9.43002191e-01+0.00000000e+00j],\n",
       "        [-3.83968924e-02-1.19767889e-02j, -3.83968924e-02+1.19767889e-02j,\n",
       "         -1.00422871e-01+0.00000000e+00j, -1.45635863e-01+0.00000000e+00j,\n",
       "         -7.34055530e-02+1.83659943e-01j, -7.34055530e-02-1.83659943e-01j,\n",
       "          1.61218517e-01+0.00000000e+00j],\n",
       "        [ 6.75866249e-04+3.30491161e-04j,  6.75866249e-04-3.30491161e-04j,\n",
       "          3.48914175e-03+0.00000000e+00j,  6.71667548e-03+0.00000000e+00j,\n",
       "          1.06542756e-02+7.85556738e-03j,  1.06542756e-02-7.85556738e-03j,\n",
       "          9.33681507e-03+0.00000000e+00j],\n",
       "        [-4.74041103e-05-2.57573541e-04j, -4.74041103e-05+2.57573541e-04j,\n",
       "          6.79249263e-04+0.00000000e+00j,  9.38565247e-04+0.00000000e+00j,\n",
       "          8.28279562e-04+3.08986723e-04j,  8.28279562e-04-3.08986723e-04j,\n",
       "          5.11964424e-04+0.00000000e+00j],\n",
       "        [-9.72141717e-04+1.03937291e-03j, -9.72141717e-04-1.03937291e-03j,\n",
       "          2.06413077e-03+0.00000000e+00j,  2.04725548e-03+0.00000000e+00j,\n",
       "          9.18739078e-04+7.25282864e-05j,  9.18739078e-04-7.25282864e-05j,\n",
       "          4.38205959e-04+0.00000000e+00j],\n",
       "        [ 9.83701555e-04-8.05663445e-04j,  9.83701555e-04+8.05663445e-04j,\n",
       "         -3.07653457e-03+0.00000000e+00j, -3.78036612e-03+0.00000000e+00j,\n",
       "         -6.92197273e-04-3.28262896e-03j, -6.92197273e-04+3.28262896e-03j,\n",
       "          2.60342273e-03+0.00000000e+00j]]))"
      ]
     },
     "execution_count": 184,
     "metadata": {},
     "output_type": "execute_result"
    }
   ],
   "source": [
    "np.linalg.eig(A)"
   ]
  },
  {
   "cell_type": "code",
   "execution_count": 172,
   "id": "a0cc7007-7e2d-4bc1-8472-bc5a2afb0c4e",
   "metadata": {},
   "outputs": [
    {
     "data": {
      "text/plain": [
       "array([0.14889702, 0.14889702, 0.26625279, 0.37093228, 0.77612369,\n",
       "       0.77612369, 0.94528704])"
      ]
     },
     "execution_count": 172,
     "metadata": {},
     "output_type": "execute_result"
    }
   ],
   "source": [
    "abs(np.linalg.eig(A)[0])"
   ]
  },
  {
   "cell_type": "code",
   "execution_count": 198,
   "id": "a44543ff-e789-4838-8c92-5087a728b956",
   "metadata": {},
   "outputs": [],
   "source": [
    "a = np.linalg.eig(A)[1][:,6]"
   ]
  },
  {
   "cell_type": "code",
   "execution_count": 199,
   "id": "e8150278-4b9b-42dd-8df4-4be1dd4660a2",
   "metadata": {},
   "outputs": [
    {
     "data": {
      "text/plain": [
       "array([3.05731900e-01+0.j, 9.39468942e-01+0.j, 1.54427435e-01+0.j,\n",
       "       8.56065025e-03+0.j, 4.63817598e-04+0.j, 3.92270060e-04+0.j,\n",
       "       2.15067915e-03+0.j])"
      ]
     },
     "execution_count": 199,
     "metadata": {},
     "output_type": "execute_result"
    }
   ],
   "source": [
    "a"
   ]
  },
  {
   "cell_type": "code",
   "execution_count": 200,
   "id": "9a482053-e0de-479c-85c9-b282a2d42e70",
   "metadata": {},
   "outputs": [
    {
     "data": {
      "text/plain": [
       "array([2.16647416e-01+0.j, 6.65725488e-01+0.j, 1.09430206e-01+0.j,\n",
       "       6.06623892e-03+0.j, 3.28669936e-04+0.j, 2.77969995e-04+0.j,\n",
       "       1.52401198e-03+0.j])"
      ]
     },
     "execution_count": 200,
     "metadata": {},
     "output_type": "execute_result"
    }
   ],
   "source": [
    "(1 / sum(a)) * a"
   ]
  },
  {
   "cell_type": "code",
   "execution_count": 203,
   "id": "65ca55d3-c461-47a4-9750-cea9cf012dfa",
   "metadata": {},
   "outputs": [],
   "source": [
    "B = A = np.diagflat([0.6747, G2, G3, G4, 0.8091 , 0.8091], -1)\n",
    "np.fill_diagonal(B, [0, P2, P3, P4, 0, 0, 0.8091])\n",
    "B[0,] = [0, 0, 0, 0, 150, 20, 100]"
   ]
  },
  {
   "cell_type": "code",
   "execution_count": 204,
   "id": "6e11528d-9b2b-46cf-b461-6ba34eea2921",
   "metadata": {},
   "outputs": [
    {
     "data": {
      "text/plain": [
       "array([0.15124253, 0.15124253, 0.31371928, 0.31371928, 0.78061002,\n",
       "       0.78061002, 0.95667464])"
      ]
     },
     "execution_count": 204,
     "metadata": {},
     "output_type": "execute_result"
    }
   ],
   "source": [
    "abs(np.linalg.eig(B)[0])"
   ]
  },
  {
   "cell_type": "code",
   "execution_count": 205,
   "id": "6cefe02f-6570-4361-9a4c-29a2d85eb4bf",
   "metadata": {},
   "outputs": [],
   "source": [
    "b = np.linalg.eig(B)[1][:,6]"
   ]
  },
  {
   "cell_type": "code",
   "execution_count": 206,
   "id": "c3df4d68-676c-402a-8064-f1c29d0f9ab9",
   "metadata": {},
   "outputs": [
    {
     "data": {
      "text/plain": [
       "array([2.16647416e-01+0.j, 6.65725488e-01+0.j, 1.09430206e-01+0.j,\n",
       "       6.06623892e-03+0.j, 3.28669936e-04+0.j, 2.77969995e-04+0.j,\n",
       "       1.52401198e-03+0.j])"
      ]
     },
     "execution_count": 206,
     "metadata": {},
     "output_type": "execute_result"
    }
   ],
   "source": [
    "(1 / sum(b)) * b"
   ]
  },
  {
   "cell_type": "code",
   "execution_count": 207,
   "id": "dc1b79bb-9e41-4935-addd-07e963339fa4",
   "metadata": {},
   "outputs": [],
   "source": [
    "C = np.diagflat([0.6747, G2 + 0.05, G3+0.05, G4+0.05, 0.8091 , 0.8091], -1)\n",
    "np.fill_diagonal(C, [0, P2+0.05, P3+0.05, P4+0.05, 0, 0, 0.8091])\n",
    "C[0,] = [0, 0, 0, 0, 127, 4, 80]"
   ]
  },
  {
   "cell_type": "code",
   "execution_count": 211,
   "id": "b63f8213-3c8d-430b-95bd-3ecca5ddcb00",
   "metadata": {},
   "outputs": [
    {
     "data": {
      "text/plain": [
       "array([0.32436831, 0.32436831, 1.17712194, 0.91051886, 0.91051886,\n",
       "       0.46099968, 0.46099968])"
      ]
     },
     "execution_count": 211,
     "metadata": {},
     "output_type": "execute_result"
    }
   ],
   "source": [
    "abs(np.linalg.eig(C)[0])"
   ]
  },
  {
   "cell_type": "code",
   "execution_count": 213,
   "id": "98df5b15-53c7-46ed-8c9c-5e5b9a499358",
   "metadata": {},
   "outputs": [],
   "source": [
    "c = np.linalg.eig(C)[1][:,2]"
   ]
  },
  {
   "cell_type": "code",
   "execution_count": 215,
   "id": "243e27d6-3495-4405-b866-b65b5c864115",
   "metadata": {},
   "outputs": [
    {
     "data": {
      "text/plain": [
       "array([0.31593618+0.j, 0.54654815+0.j, 0.11561835+0.j, 0.01715145+0.j,\n",
       "       0.00148377+0.j, 0.00101988+0.j, 0.00224221+0.j])"
      ]
     },
     "execution_count": 215,
     "metadata": {},
     "output_type": "execute_result"
    }
   ],
   "source": [
    "(1 / sum(c)) * c"
   ]
  },
  {
   "cell_type": "code",
   "execution_count": null,
   "id": "e5ac0eaa-0332-4705-b72d-15b800e30e40",
   "metadata": {},
   "outputs": [],
   "source": []
  }
 ],
 "metadata": {
  "kernelspec": {
   "display_name": "Python 3 (ipykernel)",
   "language": "python",
   "name": "python3"
  },
  "language_info": {
   "codemirror_mode": {
    "name": "ipython",
    "version": 3
   },
   "file_extension": ".py",
   "mimetype": "text/x-python",
   "name": "python",
   "nbconvert_exporter": "python",
   "pygments_lexer": "ipython3",
   "version": "3.9.7"
  }
 },
 "nbformat": 4,
 "nbformat_minor": 5
}
